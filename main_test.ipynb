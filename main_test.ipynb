{
 "cells": [
  {
   "cell_type": "markdown",
   "metadata": {},
   "source": [
    "# 内容说明\n",
    "本文件是用于读取已训练的模型，并在测试集得到最终排名预测文件。\n"
   ]
  },
  {
   "cell_type": "markdown",
   "metadata": {},
   "source": [
    "# 训练集说明"
   ]
  },
  {
   "cell_type": "code",
   "execution_count": 1,
   "metadata": {
    "execution": {
     "iopub.execute_input": "2022-05-21T02:37:50.809097Z",
     "iopub.status.busy": "2022-05-21T02:37:50.808817Z",
     "iopub.status.idle": "2022-05-21T02:37:51.280970Z",
     "shell.execute_reply": "2022-05-21T02:37:51.280105Z",
     "shell.execute_reply.started": "2022-05-21T02:37:50.809067Z"
    },
    "scrolled": true
   },
   "outputs": [
    {
     "name": "stdout",
     "output_type": "stream",
     "text": [
      "data134077\n",
      "CVPR_2022_NAS_Track1_test.json\tCVPR_2022_NAS_Track2_train.json\n",
      "CVPR_2022_NAS_Track2_test.json\tresnet48.pdparams\n"
     ]
    }
   ],
   "source": [
    "# 查看当前挂载的数据集目录, 该目录下的变更重启环境后会自动还原\r\n",
    "# View dataset directory. \r\n",
    "# This directory will be recovered automatically after resetting environment. \r\n",
    "!ls /home/aistudio/data\r\n",
    "!ls /home/aistudio/data/data134077"
   ]
  },
  {
   "cell_type": "code",
   "execution_count": 2,
   "metadata": {
    "execution": {
     "iopub.execute_input": "2022-05-21T02:37:51.283174Z",
     "iopub.status.busy": "2022-05-21T02:37:51.282905Z",
     "iopub.status.idle": "2022-05-21T02:37:51.292381Z",
     "shell.execute_reply": "2022-05-21T02:37:51.291305Z",
     "shell.execute_reply.started": "2022-05-21T02:37:51.283142Z"
    },
    "scrolled": true
   },
   "outputs": [
    {
     "name": "stdout",
     "output_type": "stream",
     "text": [
      "{'cplfw_rank': 9, 'market1501_rank': 361, 'dukemtmc_rank': 426, 'msmt17_rank': 433, 'veri_rank': 327, 'vehicleid_rank': 480, 'veriwild_rank': 425, 'sop_rank': 367, 'arch': 'l231131331121121331111211121331321321'}\n",
      "train_num: 500\n"
     ]
    }
   ],
   "source": [
    "# 读取训练数据, 训练集包含500个模型结构，以及这些结构在cplfw，market1501，dukemtmc等8个任务上的性能排序\r\n",
    "import json\r\n",
    "with open('/home/aistudio/data/data134077/CVPR_2022_NAS_Track2_train.json', 'r') as f:\r\n",
    "    train_data = json.load(f)\r\n",
    "print(train_data['arch1'])\r\n",
    "print('train_num:',len(train_data.keys()))"
   ]
  },
  {
   "cell_type": "markdown",
   "metadata": {},
   "source": [
    "# 处理数据\n"
   ]
  },
  {
   "cell_type": "code",
   "execution_count": 3,
   "metadata": {
    "execution": {
     "iopub.execute_input": "2022-05-21T02:37:51.294543Z",
     "iopub.status.busy": "2022-05-21T02:37:51.293861Z",
     "iopub.status.idle": "2022-05-21T02:37:51.319047Z",
     "shell.execute_reply": "2022-05-21T02:37:51.318235Z",
     "shell.execute_reply.started": "2022-05-21T02:37:51.294499Z"
    },
    "scrolled": true,
    "tags": []
   },
   "outputs": [
    {
     "name": "stdout",
     "output_type": "stream",
     "text": [
      "[1, 2, 3, 1, 1, 3, 1, 3, 3, 1, 1, 2, 1, 1, 2, 1, 3, 3, 1, 1, 1, 1, 2, 1, 1, 1, 2, 1, 3, 3, 1, 3, 2, 1, 3, 2, 1]\n"
     ]
    }
   ],
   "source": [
    "def convert_X(arch_str):\n",
    "    temp_arch = []\n",
    "    for elm in arch_str:\n",
    "        if elm == 'l':\n",
    "            temp_arch.append(1)\n",
    "        elif elm == 'j':\n",
    "            temp_arch.append(2)\n",
    "        elif elm == 'k':\n",
    "            temp_arch.append(3)\n",
    "        else: \n",
    "            temp_arch.append(int(elm))\n",
    "    return(temp_arch)\n",
    "train_list = [[],[],[],[],[],[],[],[]]\n",
    "arch_list_train = []\n",
    "name_list = ['cplfw_rank', 'market1501_rank', 'dukemtmc_rank', 'msmt17_rank', 'veri_rank', 'vehicleid_rank', 'veriwild_rank', 'sop_rank']\n",
    "for key in train_data.keys():\n",
    "    for idx, name in enumerate(name_list):\n",
    "        train_list[idx].append(train_data[key][name])\n",
    "    arch_list_train.append(convert_X(train_data[key]['arch']))\n",
    "print(arch_list_train[0])"
   ]
  },
  {
   "cell_type": "code",
   "execution_count": 4,
   "metadata": {
    "execution": {
     "iopub.execute_input": "2022-05-21T02:37:51.320880Z",
     "iopub.status.busy": "2022-05-21T02:37:51.320221Z",
     "iopub.status.idle": "2022-05-21T02:37:53.898709Z",
     "shell.execute_reply": "2022-05-21T02:37:53.897642Z",
     "shell.execute_reply.started": "2022-05-21T02:37:51.320849Z"
    },
    "scrolled": true,
    "tags": []
   },
   "outputs": [
    {
     "name": "stdout",
     "output_type": "stream",
     "text": [
      "Looking in indexes: https://pypi.tuna.tsinghua.edu.cn/simple\n",
      "Requirement already satisfied: paddleslim in /opt/conda/envs/python35-paddle120-env/lib/python3.7/site-packages (2.2.2)\n",
      "Requirement already satisfied: matplotlib in /opt/conda/envs/python35-paddle120-env/lib/python3.7/site-packages (from paddleslim) (2.2.3)\n",
      "Requirement already satisfied: tqdm in /opt/conda/envs/python35-paddle120-env/lib/python3.7/site-packages (from paddleslim) (4.36.1)\n",
      "Requirement already satisfied: pillow in /opt/conda/envs/python35-paddle120-env/lib/python3.7/site-packages (from paddleslim) (7.1.2)\n",
      "Requirement already satisfied: pyzmq in /opt/conda/envs/python35-paddle120-env/lib/python3.7/site-packages (from paddleslim) (22.3.0)\n",
      "Requirement already satisfied: opencv-python in /opt/conda/envs/python35-paddle120-env/lib/python3.7/site-packages (from paddleslim) (4.1.1.26)\n",
      "Requirement already satisfied: pyyaml in /opt/conda/envs/python35-paddle120-env/lib/python3.7/site-packages (from paddleslim) (5.1.2)\n",
      "Requirement already satisfied: pytz in /opt/conda/envs/python35-paddle120-env/lib/python3.7/site-packages (from matplotlib->paddleslim) (2019.3)\n",
      "Requirement already satisfied: kiwisolver>=1.0.1 in /opt/conda/envs/python35-paddle120-env/lib/python3.7/site-packages (from matplotlib->paddleslim) (1.1.0)\n",
      "Requirement already satisfied: six>=1.10 in /opt/conda/envs/python35-paddle120-env/lib/python3.7/site-packages (from matplotlib->paddleslim) (1.16.0)\n",
      "Requirement already satisfied: pyparsing!=2.0.4,!=2.1.2,!=2.1.6,>=2.0.1 in /opt/conda/envs/python35-paddle120-env/lib/python3.7/site-packages (from matplotlib->paddleslim) (3.0.8)\n",
      "Requirement already satisfied: cycler>=0.10 in /opt/conda/envs/python35-paddle120-env/lib/python3.7/site-packages (from matplotlib->paddleslim) (0.10.0)\n",
      "Requirement already satisfied: python-dateutil>=2.1 in /opt/conda/envs/python35-paddle120-env/lib/python3.7/site-packages (from matplotlib->paddleslim) (2.8.2)\n",
      "Requirement already satisfied: numpy>=1.7.1 in /opt/conda/envs/python35-paddle120-env/lib/python3.7/site-packages (from matplotlib->paddleslim) (1.16.4)\n",
      "Requirement already satisfied: setuptools in /opt/conda/envs/python35-paddle120-env/lib/python3.7/site-packages (from kiwisolver>=1.0.1->matplotlib->paddleslim) (41.4.0)\n",
      "\u001b[33mWARNING: You are using pip version 22.0.4; however, version 22.1 is available.\n",
      "You should consider upgrading via the '/opt/conda/envs/python35-paddle120-env/bin/python -m pip install --upgrade pip' command.\u001b[0m\u001b[33m\n",
      "\u001b[0m"
     ]
    }
   ],
   "source": [
    "# 安装paddleslim\n",
    "!pip install paddleslim"
   ]
  },
  {
   "cell_type": "code",
   "execution_count": 5,
   "metadata": {
    "execution": {
     "iopub.execute_input": "2022-05-21T02:37:53.901895Z",
     "iopub.status.busy": "2022-05-21T02:37:53.901280Z",
     "iopub.status.idle": "2022-05-21T02:37:55.717277Z",
     "shell.execute_reply": "2022-05-21T02:37:55.716481Z",
     "shell.execute_reply.started": "2022-05-21T02:37:53.901853Z"
    },
    "scrolled": true,
    "tags": []
   },
   "outputs": [
    {
     "name": "stderr",
     "output_type": "stream",
     "text": [
      "/opt/conda/envs/python35-paddle120-env/lib/python3.7/site-packages/matplotlib/__init__.py:107: DeprecationWarning: Using or importing the ABCs from 'collections' instead of from 'collections.abc' is deprecated, and in 3.8 it will stop working\n",
      "  from collections import MutableMapping\n",
      "/opt/conda/envs/python35-paddle120-env/lib/python3.7/site-packages/matplotlib/rcsetup.py:20: DeprecationWarning: Using or importing the ABCs from 'collections' instead of from 'collections.abc' is deprecated, and in 3.8 it will stop working\n",
      "  from collections import Iterable, Mapping\n",
      "/opt/conda/envs/python35-paddle120-env/lib/python3.7/site-packages/matplotlib/colors.py:53: DeprecationWarning: Using or importing the ABCs from 'collections' instead of from 'collections.abc' is deprecated, and in 3.8 it will stop working\n",
      "  from collections import Sized\n"
     ]
    }
   ],
   "source": [
    "# 加载python包\n",
    "import os\n",
    "import numpy as np\n",
    "from paddle.io import Dataset,DataLoader\n",
    "from paddle.vision import transforms as T\n",
    "from paddle.nn import functional as F\n",
    "import cv2\n",
    "import paddle\n",
    "import matplotlib.pyplot as plt\n",
    "import paddle.nn as nn\n",
    "from tqdm import tqdm\n",
    "import math\n",
    "from math import sqrt\n",
    "import time\n",
    "\n",
    "import pdb"
   ]
  },
  {
   "cell_type": "code",
   "execution_count": 6,
   "metadata": {
    "execution": {
     "iopub.execute_input": "2022-05-21T02:37:55.718887Z",
     "iopub.status.busy": "2022-05-21T02:37:55.718507Z",
     "iopub.status.idle": "2022-05-21T02:37:55.725489Z",
     "shell.execute_reply": "2022-05-21T02:37:55.724808Z",
     "shell.execute_reply.started": "2022-05-21T02:37:55.718850Z"
    },
    "scrolled": true,
    "tags": []
   },
   "outputs": [],
   "source": [
    "# 记录并计算平均值\n",
    "class AverageMeter(object):\n",
    "    \"\"\"\n",
    "    Computes and stores the average and current value\n",
    "    Copied from: https://github.com/pytorch/examples/blob/master/imagenet/main.py\n",
    "    \"\"\"\n",
    "\n",
    "    def __init__(self):\n",
    "        self.val = 0\n",
    "        self.avg = 0\n",
    "        self.sum = 0\n",
    "        self.count = 0\n",
    "\n",
    "    def reset(self):\n",
    "        self.val = 0\n",
    "        self.avg = 0\n",
    "        self.sum = 0\n",
    "        self.count = 0\n",
    "\n",
    "    def update(self, val, n=1):\n",
    "        self.val = val\n",
    "        self.sum += val * n\n",
    "        self.count += n\n",
    "        self.avg = self.sum / self.count"
   ]
  },
  {
   "cell_type": "code",
   "execution_count": 7,
   "metadata": {
    "execution": {
     "iopub.execute_input": "2022-05-21T02:37:55.726948Z",
     "iopub.status.busy": "2022-05-21T02:37:55.726548Z",
     "iopub.status.idle": "2022-05-21T02:37:55.736837Z",
     "shell.execute_reply": "2022-05-21T02:37:55.736170Z",
     "shell.execute_reply.started": "2022-05-21T02:37:55.726918Z"
    },
    "scrolled": true,
    "tags": []
   },
   "outputs": [],
   "source": [
    "# 模糊化层\n",
    "# 基于模糊集理论，对于每个输入，通过若干个隶属函数，转化为隶属度（0~1）\n",
    "class Fuzzify(nn.Layer):\n",
    "    def __init__(self,dim=2,flag_fix=False): # dim为每个输入对应的隶属函数数目，隶属函数选用高斯函数\n",
    "        super(Fuzzify, self).__init__()\n",
    "        self.dim = dim\n",
    "        if not flag_fix: # 隶属函数的参数是否是固定的\n",
    "            param_c = self.create_parameter([1,dim]) # 高斯函数的期望值\n",
    "            self.add_parameter(\"param_c\", param_c)\n",
    "            param_d = self.create_parameter([1,dim]) # 高斯函数的标准差\n",
    "            self.add_parameter(\"param_d\", param_d)\n",
    "            # init\n",
    "            self.param_c.set_value(np.random.rand(1,dim).astype(\"float32\")*3) # 初始化[0,3)，因为每个输入值取值为{0,1,2,3}\n",
    "            self.param_d.set_value(np.ones((1,dim)).astype(\"float32\")) # 初始化\n",
    "        else:\n",
    "            self.param_c = paddle.zeros([1, dim])\n",
    "            #self.param_d = paddle.ones([1, dim])\n",
    "            param_d = self.create_parameter([1,dim])\n",
    "            self.add_parameter(\"param_d\", param_d)\n",
    "            # init\n",
    "            for _ in range(dim):\n",
    "                self.param_c[0, _] = _\n",
    "            self.param_d.set_value(np.ones((1,dim)).astype(\"float32\"))\n",
    "\n",
    "    def forward(self,x):\n",
    "        x_out = []\n",
    "        for i in range(self.dim):\n",
    "            x_out.append(paddle.exp(-(x - self.param_c[0, i]) ** 2 * (2 * self.param_d[0, i] ** 2))) # 除以2\\delta^2 改为 乘以2\\delta^2\n",
    "        return paddle.concat(x_out, 1)"
   ]
  },
  {
   "cell_type": "code",
   "execution_count": 8,
   "metadata": {
    "execution": {
     "iopub.execute_input": "2022-05-21T02:37:55.738055Z",
     "iopub.status.busy": "2022-05-21T02:37:55.737776Z",
     "iopub.status.idle": "2022-05-21T02:37:55.745148Z",
     "shell.execute_reply": "2022-05-21T02:37:55.744490Z",
     "shell.execute_reply.started": "2022-05-21T02:37:55.738026Z"
    },
    "scrolled": true,
    "tags": []
   },
   "outputs": [],
   "source": [
    "class FRNN(nn.Layer): # 模糊粗糙神经网络\n",
    "    def __init__(self,num_feat,num_mf=2,num_fr=7,num_rgh=3,num_classes=1):\n",
    "        super(FRNN, self).__init__()\n",
    "        '''\n",
    "        FRNN: fuzzification, fuzzy rule, rough, output\n",
    "        '''\n",
    "\n",
    "        '''\n",
    "        self.fuzz = Fuzzify(num_mf,flag_fix=False)\n",
    "        self.cnsq = nn.Sequential(\n",
    "            nn.Linear(num_feat,num_feat*num_mf),\n",
    "            nn.BatchNorm1D(num_feat*num_mf),\n",
    "            nn.ReLU(),\n",
    "        )\n",
    "        self.out  = nn.Sequential(\n",
    "            nn.Linear(2*num_feat*num_mf,num_classes),\n",
    "            nn.Sigmoid()\n",
    "        )\n",
    "        '''\n",
    "        self.frnn = nn.Sequential(\n",
    "            Fuzzify(num_mf,flag_fix=False), # 模糊化层\n",
    "            #nn.Linear(num_feat*num_mf,num_fr), # 模糊规则层\n",
    "            #nn.BatchNorm1D(num_fr),\n",
    "            #nn.ReLU(),\n",
    "            #nn.Linear(num_fr,num_rgh), # 粗糙层\n",
    "            #nn.BatchNorm1D(num_rgh),\n",
    "            #nn.ReLU(),\n",
    "            #nn.Linear(num_rgh,num_classes), # 输出层\n",
    "            #nn.Linear(num_fr,num_classes), # 输出层\n",
    "            nn.Linear(num_feat*num_mf,num_classes), # 输出层\n",
    "            nn.Sigmoid() # 转到0~1\n",
    "        )\n",
    "        self.flag = False\n",
    "\n",
    "    def forward(self,x):\n",
    "        '''\n",
    "        x1 = self.fuzz(x)\n",
    "        x2 = self.cnsq(x)\n",
    "        x  = self.out(paddle.concat(x=[x1, x2], axis=1))\n",
    "        if not self.flag:\n",
    "            print(x.shape, x)\n",
    "            self.flag = True\n",
    "        return x\n",
    "        '''\n",
    "        return self.frnn(x)"
   ]
  },
  {
   "cell_type": "code",
   "execution_count": 9,
   "metadata": {
    "execution": {
     "iopub.execute_input": "2022-05-21T02:37:55.746437Z",
     "iopub.status.busy": "2022-05-21T02:37:55.746157Z",
     "iopub.status.idle": "2022-05-21T02:37:55.753015Z",
     "shell.execute_reply": "2022-05-21T02:37:55.752425Z",
     "shell.execute_reply.started": "2022-05-21T02:37:55.746410Z"
    },
    "scrolled": true,
    "tags": []
   },
   "outputs": [],
   "source": [
    "# 评估网络模型\n",
    "def evaluation(model, params_file_path, valid_loader,flag_test=False):\n",
    "    if params_file_path is not None:\n",
    "        model_state_dict = paddle.load(params_file_path)\n",
    "        model.load_dict(model_state_dict)\n",
    "    model.eval()\n",
    "\n",
    "    all_pd = []\n",
    "    all_gt = []\n",
    "    for idx, data in enumerate(valid_loader()):\n",
    "        if flag_test:\n",
    "            arch_v = data\n",
    "        else:\n",
    "            arch_v, score_label = data\n",
    "\n",
    "        scores_predict = model(arch_v)\n",
    "\n",
    "        all_pd.append(scores_predict)\n",
    "        if not flag_test:\n",
    "            all_gt.append(score_label)\n",
    "\n",
    "    all_pd = paddle.concat(all_pd)\n",
    "    if flag_test: # 测试集没groundtruth\n",
    "        return all_pd.numpy()\n",
    "    else:\n",
    "        all_gt = paddle.concat(all_gt)\n",
    "        return scipy.stats.stats.kendalltau(all_pd.numpy(), all_gt.numpy())"
   ]
  },
  {
   "cell_type": "code",
   "execution_count": 10,
   "metadata": {
    "execution": {
     "iopub.execute_input": "2022-05-21T02:37:55.754079Z",
     "iopub.status.busy": "2022-05-21T02:37:55.753881Z",
     "iopub.status.idle": "2022-05-21T02:37:55.760298Z",
     "shell.execute_reply": "2022-05-21T02:37:55.759686Z",
     "shell.execute_reply.started": "2022-05-21T02:37:55.754054Z"
    },
    "scrolled": true,
    "tags": []
   },
   "outputs": [],
   "source": [
    "# 构建数据集\n",
    "class ArchDataset(Dataset):\n",
    "    def __init__(self, data, label, transform=None):\n",
    "        super(ArchDataset, self).__init__()\n",
    "        self.data = data\n",
    "        self.label = label\n",
    "        self.transform = transform\n",
    "\n",
    "    def __getitem__(self, index):\n",
    "        if self.label is not None:\n",
    "            return np.array(self.data[index]).astype(\"float32\"), np.array(self.label[index]).astype(\"float32\")\n",
    "        else:\n",
    "            return np.array(self.data[index]).astype(\"float32\")\n",
    "\n",
    "    def __len__(self):\n",
    "        return len(self.data)"
   ]
  },
  {
   "cell_type": "markdown",
   "metadata": {},
   "source": [
    "# 查看测试集"
   ]
  },
  {
   "cell_type": "code",
   "execution_count": 11,
   "metadata": {
    "execution": {
     "iopub.execute_input": "2022-05-21T02:37:55.761522Z",
     "iopub.status.busy": "2022-05-21T02:37:55.761323Z",
     "iopub.status.idle": "2022-05-21T02:37:56.139512Z",
     "shell.execute_reply": "2022-05-21T02:37:56.138758Z",
     "shell.execute_reply.started": "2022-05-21T02:37:55.761498Z"
    },
    "scrolled": true,
    "tags": []
   },
   "outputs": [
    {
     "data": {
      "text/plain": [
       "{'cplfw_rank': 0,\n",
       " 'market1501_rank': 0,\n",
       " 'dukemtmc_rank': 0,\n",
       " 'msmt17_rank': 0,\n",
       " 'veri_rank': 0,\n",
       " 'vehicleid_rank': 0,\n",
       " 'veriwild_rank': 0,\n",
       " 'sop_rank': 0,\n",
       " 'arch': 'j121221121221221311331321121221000000'}"
      ]
     },
     "execution_count": 11,
     "metadata": {},
     "output_type": "execute_result"
    }
   ],
   "source": [
    "import json\n",
    "with open('/home/aistudio/data/data134077/CVPR_2022_NAS_Track2_test.json', 'r') as f:\n",
    "    test_data = json.load(f)\n",
    "test_data['arch99997']"
   ]
  },
  {
   "cell_type": "markdown",
   "metadata": {},
   "source": [
    "# 处理测试集数据"
   ]
  },
  {
   "cell_type": "code",
   "execution_count": 12,
   "metadata": {
    "execution": {
     "iopub.execute_input": "2022-05-21T02:37:56.141158Z",
     "iopub.status.busy": "2022-05-21T02:37:56.140829Z",
     "iopub.status.idle": "2022-05-21T02:37:57.589039Z",
     "shell.execute_reply": "2022-05-21T02:37:57.588209Z",
     "shell.execute_reply.started": "2022-05-21T02:37:56.141129Z"
    },
    "scrolled": true,
    "tags": []
   },
   "outputs": [
    {
     "name": "stdout",
     "output_type": "stream",
     "text": [
      "[1, 2, 2, 1, 3, 3, 1, 1, 1, 1, 2, 2, 1, 1, 3, 1, 2, 1, 1, 1, 1, 1, 1, 2, 1, 2, 3, 1, 3, 1, 1, 3, 2, 1, 3, 3, 1]\n"
     ]
    }
   ],
   "source": [
    "test_arch_list = []\n",
    "for key in test_data.keys():\n",
    "    test_arch =  convert_X(test_data[key]['arch'])\n",
    "    test_arch_list.append(test_arch)\n",
    "print(test_arch_list[99499])"
   ]
  },
  {
   "cell_type": "markdown",
   "metadata": {
    "execution": {
     "iopub.status.busy": "2022-03-31T10:11:06.070408Z",
     "iopub.status.idle": "2022-03-31T10:11:06.070662Z",
     "shell.execute_reply": "2022-03-31T10:11:06.070551Z",
     "shell.execute_reply.started": "2022-03-31T10:11:06.070539Z"
    }
   },
   "source": [
    " # 生成提交结果"
   ]
  },
  {
   "cell_type": "code",
   "execution_count": 22,
   "metadata": {
    "execution": {
     "iopub.execute_input": "2022-05-21T02:59:40.217034Z",
     "iopub.status.busy": "2022-05-21T02:59:40.216127Z",
     "iopub.status.idle": "2022-05-21T02:59:54.143039Z",
     "shell.execute_reply": "2022-05-21T02:59:54.142187Z",
     "shell.execute_reply.started": "2022-05-21T02:59:40.216993Z"
    },
    "scrolled": true,
    "tags": []
   },
   "outputs": [
    {
     "name": "stdout",
     "output_type": "stream",
     "text": [
      "Predict the rank of: cplfw_rank\n",
      "Predict the rank of: market1501_rank\n",
      "Predict the rank of: dukemtmc_rank\n",
      "Predict the rank of: msmt17_rank\n",
      "Predict the rank of: veri_rank\n",
      "Predict the rank of: vehicleid_rank\n",
      "Predict the rank of: veriwild_rank\n",
      "Predict the rank of: sop_rank\n"
     ]
    }
   ],
   "source": [
    "from paddle.static import InputSpec\n",
    "\n",
    "frnn_list = []\n",
    "\n",
    "'''\n",
    "for i in range(len(train_list[:])):\n",
    "    # 每个任务有该任务专属的FRNN预测器\n",
    "    frnn_list.append(FRNN(num_feat=37,num_mf=16,num_fr=8,num_rgh=4,num_classes=1))\n",
    "\n",
    "for i in range(len(train_list[:])):\n",
    "    params_file_path = './checkpoint/task' + str(i) + '_best' + '.pdparams'\n",
    "    model_state_dict = paddle.load(params_file_path)\n",
    "    frnn_list[i].load_dict(model_state_dict)\n",
    "    paddle.jit.save(\n",
    "        layer=frnn_list[i], \n",
    "        path='./save/task' + str(i) + '_best' + '.pdmodel',\n",
    "        input_spec=[InputSpec(shape=[None, 37], dtype='float32')]\n",
    "        )\n",
    "'''\n",
    "\n",
    "for i in range(len(train_list[:])):\n",
    "    frnn_list.append(paddle.jit.load('./save/task' + str(i) + '_best' + '.pdmodel'))\n",
    "\n",
    "##\n",
    "batch_size = 512\n",
    "rank_all = []\n",
    "pd_all_frnn = [] # 预测值\n",
    "rank_all_frnn = [] # 预测排序\n",
    "for task in range(len(name_list)):\n",
    "    print('Predict the rank of:', name_list[task])\n",
    "    \n",
    "    X_test_k = np.array(test_arch_list)\n",
    "    test_dataset = ArchDataset(X_test_k, None)\n",
    "    test_dataloader = DataLoader(test_dataset, batch_size=batch_size, shuffle=False, drop_last=False)\n",
    "    # 测试最优模型参数\n",
    "    all_pd = evaluation(frnn_list[task], None,\n",
    "                        test_dataloader, flag_test=True)\n",
    "    pd_all_frnn.append(all_pd)\n",
    "    tmp = np.argsort(all_pd.reshape(-1))\n",
    "    tmp2 = np.argsort(tmp) # 获得排名\n",
    "    rank_all_frnn.append(tmp2)"
   ]
  },
  {
   "cell_type": "code",
   "execution_count": 23,
   "metadata": {
    "execution": {
     "iopub.execute_input": "2022-05-21T03:00:36.913821Z",
     "iopub.status.busy": "2022-05-21T03:00:36.913364Z",
     "iopub.status.idle": "2022-05-21T03:00:39.264022Z",
     "shell.execute_reply": "2022-05-21T03:00:39.263000Z",
     "shell.execute_reply.started": "2022-05-21T03:00:36.913783Z"
    },
    "scrolled": true,
    "tags": []
   },
   "outputs": [
    {
     "name": "stdout",
     "output_type": "stream",
     "text": [
      "Ready to save results!\n"
     ]
    }
   ],
   "source": [
    "for idx,key in enumerate(test_data.keys()):\n",
    "    test_data[key]['cplfw_rank'] = int(rank_all_frnn[0][idx])\n",
    "    test_data[key]['market1501_rank'] = int(rank_all_frnn[1][idx])\n",
    "    test_data[key]['dukemtmc_rank'] = int(rank_all_frnn[2][idx])\n",
    "    test_data[key]['msmt17_rank'] = int(rank_all_frnn[3][idx])\n",
    "    test_data[key]['veri_rank'] = int(rank_all_frnn[4][idx])\n",
    "    test_data[key]['vehicleid_rank'] = int(rank_all_frnn[5][idx])\n",
    "    test_data[key]['veriwild_rank'] = int(rank_all_frnn[6][idx])\n",
    "    test_data[key]['sop_rank'] = int(rank_all_frnn[7][idx])\n",
    "print('Ready to save results!')\n",
    "with open('./CVPR_2022_NAS_Track2_submit_A_frnn.json', 'w') as f: # 得到提出方案的预测值\n",
    "    json.dump(test_data, f)\n"
   ]
  },
  {
   "cell_type": "code",
   "execution_count": null,
   "metadata": {
    "scrolled": true
   },
   "outputs": [],
   "source": [
    "!zip "
   ]
  },
  {
   "cell_type": "markdown",
   "metadata": {},
   "source": [
    "请点击[此处](https://ai.baidu.com/docs#/AIStudio_Project_Notebook/a38e5576)查看本环境基本用法.  <br>\n",
    "Please click [here ](https://ai.baidu.com/docs#/AIStudio_Project_Notebook/a38e5576) for more detailed instructions. "
   ]
  }
 ],
 "metadata": {
  "kernelspec": {
   "display_name": "Python 3",
   "language": "python",
   "name": "py35-paddle1.2.0"
  },
  "language_info": {
   "codemirror_mode": {
    "name": "ipython",
    "version": 3
   },
   "file_extension": ".py",
   "mimetype": "text/x-python",
   "name": "python",
   "nbconvert_exporter": "python",
   "pygments_lexer": "ipython3",
   "version": "3.7.4"
  }
 },
 "nbformat": 4,
 "nbformat_minor": 4
}
